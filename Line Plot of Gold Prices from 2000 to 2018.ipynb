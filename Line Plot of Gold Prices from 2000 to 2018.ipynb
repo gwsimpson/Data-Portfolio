{
 "cells": [
  {
   "cell_type": "markdown",
   "metadata": {},
   "source": [
    "# Line Plot of Gold Prices from 2000 to 2018\n",
    "## Second Portfolio Project by George Simpson\n",
    "\n",
    "This is a basic project on importing & cleaning data. Here, we will look at gold prices from the London Bullion Market Association (LBMA). The prices are London fixings, & the fixing levels are set to troy-oz. We will look at & plot gold prices from 2nd January 2000 to 20th March 2018. \n",
    "\n",
    "#### Step 1: Importing the data\n",
    "\n",
    "First, we will import the necessary packages including 'numpy', 'pandas', 'matplotlib', 'quandl', & 'seaborn'."
   ]
  },
  {
   "cell_type": "code",
   "execution_count": 143,
   "metadata": {},
   "outputs": [],
   "source": [
    "import numpy as np\n",
    "import pandas as pd\n",
    "import matplotlib.pyplot as plt\n",
    "import quandl\n",
    "import seaborn as sns"
   ]
  },
  {
   "cell_type": "markdown",
   "metadata": {},
   "source": [
    "With the necessary packages imported, let's import the data from quandl & look at the first few lines of the data from the top & bottom of the table using the 'head' & 'tail' method."
   ]
  },
  {
   "cell_type": "code",
   "execution_count": 145,
   "metadata": {},
   "outputs": [
    {
     "data": {
      "text/html": [
       "<div>\n",
       "<style>\n",
       "    .dataframe thead tr:only-child th {\n",
       "        text-align: right;\n",
       "    }\n",
       "\n",
       "    .dataframe thead th {\n",
       "        text-align: left;\n",
       "    }\n",
       "\n",
       "    .dataframe tbody tr th {\n",
       "        vertical-align: top;\n",
       "    }\n",
       "</style>\n",
       "<table border=\"1\" class=\"dataframe\">\n",
       "  <thead>\n",
       "    <tr style=\"text-align: right;\">\n",
       "      <th></th>\n",
       "      <th>USD (AM)</th>\n",
       "      <th>USD (PM)</th>\n",
       "      <th>GBP (AM)</th>\n",
       "      <th>GBP (PM)</th>\n",
       "      <th>EURO (AM)</th>\n",
       "      <th>EURO (PM)</th>\n",
       "    </tr>\n",
       "    <tr>\n",
       "      <th>Date</th>\n",
       "      <th></th>\n",
       "      <th></th>\n",
       "      <th></th>\n",
       "      <th></th>\n",
       "      <th></th>\n",
       "      <th></th>\n",
       "    </tr>\n",
       "  </thead>\n",
       "  <tbody>\n",
       "    <tr>\n",
       "      <th>2000-01-04</th>\n",
       "      <td>282.05</td>\n",
       "      <td>281.50</td>\n",
       "      <td>172.166</td>\n",
       "      <td>171.929</td>\n",
       "      <td>275.305</td>\n",
       "      <td>272.402</td>\n",
       "    </tr>\n",
       "    <tr>\n",
       "      <th>2000-01-05</th>\n",
       "      <td>282.10</td>\n",
       "      <td>280.45</td>\n",
       "      <td>171.729</td>\n",
       "      <td>170.808</td>\n",
       "      <td>272.035</td>\n",
       "      <td>270.470</td>\n",
       "    </tr>\n",
       "    <tr>\n",
       "      <th>2000-01-06</th>\n",
       "      <td>280.35</td>\n",
       "      <td>279.40</td>\n",
       "      <td>170.446</td>\n",
       "      <td>169.518</td>\n",
       "      <td>270.974</td>\n",
       "      <td>269.152</td>\n",
       "    </tr>\n",
       "    <tr>\n",
       "      <th>2000-01-07</th>\n",
       "      <td>282.00</td>\n",
       "      <td>282.10</td>\n",
       "      <td>171.324</td>\n",
       "      <td>172.065</td>\n",
       "      <td>273.840</td>\n",
       "      <td>274.017</td>\n",
       "    </tr>\n",
       "    <tr>\n",
       "      <th>2000-01-10</th>\n",
       "      <td>281.70</td>\n",
       "      <td>281.60</td>\n",
       "      <td>172.230</td>\n",
       "      <td>171.959</td>\n",
       "      <td>275.205</td>\n",
       "      <td>274.812</td>\n",
       "    </tr>\n",
       "  </tbody>\n",
       "</table>\n",
       "</div>"
      ],
      "text/plain": [
       "            USD (AM)  USD (PM)  GBP (AM)  GBP (PM)  EURO (AM)  EURO (PM)\n",
       "Date                                                                    \n",
       "2000-01-04    282.05    281.50   172.166   171.929    275.305    272.402\n",
       "2000-01-05    282.10    280.45   171.729   170.808    272.035    270.470\n",
       "2000-01-06    280.35    279.40   170.446   169.518    270.974    269.152\n",
       "2000-01-07    282.00    282.10   171.324   172.065    273.840    274.017\n",
       "2000-01-10    281.70    281.60   172.230   171.959    275.205    274.812"
      ]
     },
     "execution_count": 145,
     "metadata": {},
     "output_type": "execute_result"
    }
   ],
   "source": [
    "df = quandl.get(\"LBMA/GOLD\", authtoken=\"fhqbsHyGCKns1Rxt3o8v\", start_date=\"2000-01-02\")\n",
    "df.head()"
   ]
  },
  {
   "cell_type": "code",
   "execution_count": 146,
   "metadata": {},
   "outputs": [
    {
     "data": {
      "text/html": [
       "<div>\n",
       "<style>\n",
       "    .dataframe thead tr:only-child th {\n",
       "        text-align: right;\n",
       "    }\n",
       "\n",
       "    .dataframe thead th {\n",
       "        text-align: left;\n",
       "    }\n",
       "\n",
       "    .dataframe tbody tr th {\n",
       "        vertical-align: top;\n",
       "    }\n",
       "</style>\n",
       "<table border=\"1\" class=\"dataframe\">\n",
       "  <thead>\n",
       "    <tr style=\"text-align: right;\">\n",
       "      <th></th>\n",
       "      <th>USD (AM)</th>\n",
       "      <th>USD (PM)</th>\n",
       "      <th>GBP (AM)</th>\n",
       "      <th>GBP (PM)</th>\n",
       "      <th>EURO (AM)</th>\n",
       "      <th>EURO (PM)</th>\n",
       "    </tr>\n",
       "    <tr>\n",
       "      <th>Date</th>\n",
       "      <th></th>\n",
       "      <th></th>\n",
       "      <th></th>\n",
       "      <th></th>\n",
       "      <th></th>\n",
       "      <th></th>\n",
       "    </tr>\n",
       "  </thead>\n",
       "  <tbody>\n",
       "    <tr>\n",
       "      <th>2018-03-23</th>\n",
       "      <td>1342.35</td>\n",
       "      <td>1346.60</td>\n",
       "      <td>952.80</td>\n",
       "      <td>950.97</td>\n",
       "      <td>1088.65</td>\n",
       "      <td>1091.42</td>\n",
       "    </tr>\n",
       "    <tr>\n",
       "      <th>2018-03-26</th>\n",
       "      <td>1348.40</td>\n",
       "      <td>1352.40</td>\n",
       "      <td>949.27</td>\n",
       "      <td>951.82</td>\n",
       "      <td>1086.95</td>\n",
       "      <td>1087.19</td>\n",
       "    </tr>\n",
       "    <tr>\n",
       "      <th>2018-03-27</th>\n",
       "      <td>1350.65</td>\n",
       "      <td>1341.45</td>\n",
       "      <td>954.64</td>\n",
       "      <td>948.41</td>\n",
       "      <td>1087.41</td>\n",
       "      <td>1082.42</td>\n",
       "    </tr>\n",
       "    <tr>\n",
       "      <th>2018-03-28</th>\n",
       "      <td>1341.05</td>\n",
       "      <td>1332.45</td>\n",
       "      <td>946.24</td>\n",
       "      <td>945.11</td>\n",
       "      <td>1082.23</td>\n",
       "      <td>1079.82</td>\n",
       "    </tr>\n",
       "    <tr>\n",
       "      <th>2018-03-29</th>\n",
       "      <td>1323.90</td>\n",
       "      <td>NaN</td>\n",
       "      <td>941.69</td>\n",
       "      <td>NaN</td>\n",
       "      <td>1075.80</td>\n",
       "      <td>NaN</td>\n",
       "    </tr>\n",
       "  </tbody>\n",
       "</table>\n",
       "</div>"
      ],
      "text/plain": [
       "            USD (AM)  USD (PM)  GBP (AM)  GBP (PM)  EURO (AM)  EURO (PM)\n",
       "Date                                                                    \n",
       "2018-03-23   1342.35   1346.60    952.80    950.97    1088.65    1091.42\n",
       "2018-03-26   1348.40   1352.40    949.27    951.82    1086.95    1087.19\n",
       "2018-03-27   1350.65   1341.45    954.64    948.41    1087.41    1082.42\n",
       "2018-03-28   1341.05   1332.45    946.24    945.11    1082.23    1079.82\n",
       "2018-03-29   1323.90       NaN    941.69       NaN    1075.80        NaN"
      ]
     },
     "execution_count": 146,
     "metadata": {},
     "output_type": "execute_result"
    }
   ],
   "source": [
    "df.tail()"
   ]
  },
  {
   "cell_type": "markdown",
   "metadata": {},
   "source": [
    "#### Step 2: Exploring and cleaning the data\n",
    "\n",
    "We have successfully imported the gold prices from 2000 to 2018 & can see the first 5 lines of data from the top & bottom of the table. Let's acquire some more information about 'mydata'. Let's start with the column labels."
   ]
  },
  {
   "cell_type": "code",
   "execution_count": 135,
   "metadata": {},
   "outputs": [
    {
     "data": {
      "text/plain": [
       "Index(['USD (AM)', 'USD (PM)', 'GBP (AM)', 'GBP (PM)', 'EURO (AM)',\n",
       "       'EURO (PM)'],\n",
       "      dtype='object')"
      ]
     },
     "execution_count": 135,
     "metadata": {},
     "output_type": "execute_result"
    }
   ],
   "source": [
    "df.columns"
   ]
  },
  {
   "cell_type": "markdown",
   "metadata": {},
   "source": [
    "Observe that we can obtain the same result using the command 'print(df.keys())'. This tells us that the column names are objects. Next we can check out how large the dataset is with the 'shape' method. "
   ]
  },
  {
   "cell_type": "code",
   "execution_count": 147,
   "metadata": {},
   "outputs": [
    {
     "data": {
      "text/plain": [
       "(4611, 6)"
      ]
     },
     "execution_count": 147,
     "metadata": {},
     "output_type": "execute_result"
    }
   ],
   "source": [
    "df.shape"
   ]
  },
  {
   "cell_type": "markdown",
   "metadata": {},
   "source": [
    "This tells us that we have 6 columns & 4611 rows. We can also acquire information on how many non-null entries (& thus how many null entries) there are in our data."
   ]
  },
  {
   "cell_type": "code",
   "execution_count": 148,
   "metadata": {},
   "outputs": [
    {
     "name": "stdout",
     "output_type": "stream",
     "text": [
      "<class 'pandas.core.frame.DataFrame'>\n",
      "DatetimeIndex: 4611 entries, 2000-01-04 to 2018-03-29\n",
      "Data columns (total 6 columns):\n",
      "USD (AM)     4611 non-null float64\n",
      "USD (PM)     4574 non-null float64\n",
      "GBP (AM)     4611 non-null float64\n",
      "GBP (PM)     4574 non-null float64\n",
      "EURO (AM)    4611 non-null float64\n",
      "EURO (PM)    4574 non-null float64\n",
      "dtypes: float64(6)\n",
      "memory usage: 252.2 KB\n"
     ]
    }
   ],
   "source": [
    "df.info()"
   ]
  },
  {
   "cell_type": "markdown",
   "metadata": {},
   "source": [
    "We see that we have a pandas dataframe & the entries are floats. In the 'USD (AM)', 'GBP (AM)' & 'EURO (AM)' columns, there are no null entries. However, there are null entries in the 'USD (PM), 'GBP (PM)' & 'EURO (PM)' columns. We also know that the numeric entries are floats. To deal with these missing values, we will fill 'NaN' entries with the mean from each column."
   ]
  },
  {
   "cell_type": "code",
   "execution_count": 149,
   "metadata": {},
   "outputs": [
    {
     "name": "stdout",
     "output_type": "stream",
     "text": [
      "<class 'pandas.core.frame.DataFrame'>\n",
      "DatetimeIndex: 4611 entries, 2000-01-04 to 2018-03-29\n",
      "Data columns (total 6 columns):\n",
      "USD (AM)     4611 non-null float64\n",
      "USD (PM)     4611 non-null float64\n",
      "GBP (AM)     4611 non-null float64\n",
      "GBP (PM)     4611 non-null float64\n",
      "EURO (AM)    4611 non-null float64\n",
      "EURO (PM)    4611 non-null float64\n",
      "dtypes: float64(6)\n",
      "memory usage: 252.2 KB\n"
     ]
    }
   ],
   "source": [
    "df2 = df.fillna(df.mean())\n",
    "df2.info()"
   ]
  },
  {
   "cell_type": "markdown",
   "metadata": {},
   "source": [
    "Of the 4611 entries, all columns have non-null entries which is what we wanted. We can also see that they are all floats. Note that we can also see we have a pandas dataframe with the 'type(dataframe)' command."
   ]
  },
  {
   "cell_type": "code",
   "execution_count": 150,
   "metadata": {},
   "outputs": [
    {
     "data": {
      "text/plain": [
       "pandas.core.frame.DataFrame"
      ]
     },
     "execution_count": 150,
     "metadata": {},
     "output_type": "execute_result"
    }
   ],
   "source": [
    "type(df2)"
   ]
  },
  {
   "cell_type": "markdown",
   "metadata": {},
   "source": [
    "Now let's acquire some basic statistical information about the plot."
   ]
  },
  {
   "cell_type": "code",
   "execution_count": 140,
   "metadata": {},
   "outputs": [
    {
     "data": {
      "text/html": [
       "<div>\n",
       "<style>\n",
       "    .dataframe thead tr:only-child th {\n",
       "        text-align: right;\n",
       "    }\n",
       "\n",
       "    .dataframe thead th {\n",
       "        text-align: left;\n",
       "    }\n",
       "\n",
       "    .dataframe tbody tr th {\n",
       "        vertical-align: top;\n",
       "    }\n",
       "</style>\n",
       "<table border=\"1\" class=\"dataframe\">\n",
       "  <thead>\n",
       "    <tr style=\"text-align: right;\">\n",
       "      <th></th>\n",
       "      <th>USD (AM)</th>\n",
       "      <th>USD (PM)</th>\n",
       "      <th>GBP (AM)</th>\n",
       "      <th>GBP (PM)</th>\n",
       "      <th>EURO (AM)</th>\n",
       "      <th>EURO (PM)</th>\n",
       "    </tr>\n",
       "  </thead>\n",
       "  <tbody>\n",
       "    <tr>\n",
       "      <th>count</th>\n",
       "      <td>4611.000000</td>\n",
       "      <td>4611.000000</td>\n",
       "      <td>4611.000000</td>\n",
       "      <td>4611.000000</td>\n",
       "      <td>4611.000000</td>\n",
       "      <td>4611.000000</td>\n",
       "    </tr>\n",
       "    <tr>\n",
       "      <th>mean</th>\n",
       "      <td>896.744155</td>\n",
       "      <td>896.315206</td>\n",
       "      <td>571.863809</td>\n",
       "      <td>571.572584</td>\n",
       "      <td>720.429171</td>\n",
       "      <td>720.232192</td>\n",
       "    </tr>\n",
       "    <tr>\n",
       "      <th>std</th>\n",
       "      <td>467.799900</td>\n",
       "      <td>465.934180</td>\n",
       "      <td>322.658198</td>\n",
       "      <td>321.376236</td>\n",
       "      <td>354.061573</td>\n",
       "      <td>352.737423</td>\n",
       "    </tr>\n",
       "    <tr>\n",
       "      <th>min</th>\n",
       "      <td>256.700000</td>\n",
       "      <td>255.950000</td>\n",
       "      <td>170.446000</td>\n",
       "      <td>169.518000</td>\n",
       "      <td>270.974000</td>\n",
       "      <td>269.152000</td>\n",
       "    </tr>\n",
       "    <tr>\n",
       "      <th>25%</th>\n",
       "      <td>410.050000</td>\n",
       "      <td>410.575000</td>\n",
       "      <td>226.878500</td>\n",
       "      <td>226.973500</td>\n",
       "      <td>334.147500</td>\n",
       "      <td>334.399500</td>\n",
       "    </tr>\n",
       "    <tr>\n",
       "      <th>50%</th>\n",
       "      <td>927.500000</td>\n",
       "      <td>921.000000</td>\n",
       "      <td>571.022000</td>\n",
       "      <td>571.572584</td>\n",
       "      <td>662.565000</td>\n",
       "      <td>666.007000</td>\n",
       "    </tr>\n",
       "    <tr>\n",
       "      <th>75%</th>\n",
       "      <td>1276.375000</td>\n",
       "      <td>1274.400000</td>\n",
       "      <td>863.618500</td>\n",
       "      <td>862.321000</td>\n",
       "      <td>1056.595000</td>\n",
       "      <td>1055.712500</td>\n",
       "    </tr>\n",
       "    <tr>\n",
       "      <th>max</th>\n",
       "      <td>1896.500000</td>\n",
       "      <td>1895.000000</td>\n",
       "      <td>1177.115000</td>\n",
       "      <td>1182.823000</td>\n",
       "      <td>1380.923000</td>\n",
       "      <td>1382.271000</td>\n",
       "    </tr>\n",
       "  </tbody>\n",
       "</table>\n",
       "</div>"
      ],
      "text/plain": [
       "          USD (AM)     USD (PM)     GBP (AM)     GBP (PM)    EURO (AM)  \\\n",
       "count  4611.000000  4611.000000  4611.000000  4611.000000  4611.000000   \n",
       "mean    896.744155   896.315206   571.863809   571.572584   720.429171   \n",
       "std     467.799900   465.934180   322.658198   321.376236   354.061573   \n",
       "min     256.700000   255.950000   170.446000   169.518000   270.974000   \n",
       "25%     410.050000   410.575000   226.878500   226.973500   334.147500   \n",
       "50%     927.500000   921.000000   571.022000   571.572584   662.565000   \n",
       "75%    1276.375000  1274.400000   863.618500   862.321000  1056.595000   \n",
       "max    1896.500000  1895.000000  1177.115000  1182.823000  1380.923000   \n",
       "\n",
       "         EURO (PM)  \n",
       "count  4611.000000  \n",
       "mean    720.232192  \n",
       "std     352.737423  \n",
       "min     269.152000  \n",
       "25%     334.399500  \n",
       "50%     666.007000  \n",
       "75%    1055.712500  \n",
       "max    1382.271000  "
      ]
     },
     "execution_count": 140,
     "metadata": {},
     "output_type": "execute_result"
    }
   ],
   "source": [
    "df2.describe()"
   ]
  },
  {
   "cell_type": "markdown",
   "metadata": {},
   "source": [
    "For each columns, we can the number of entries we have, the mean, the standard deviation, the minimum & maximum values, the median, & the lower/upper quartile. "
   ]
  },
  {
   "cell_type": "markdown",
   "metadata": {},
   "source": [
    "#### Step 3: Plotting the data\n",
    "\n",
    "Next we will create a line plot to see what we have visually. We will specifically focus on the 'GBP (AM)' column. "
   ]
  },
  {
   "cell_type": "code",
   "execution_count": 151,
   "metadata": {},
   "outputs": [],
   "source": [
    "%matplotlib inline\n",
    "plt.style.use('ggplot')\n",
    "sns.set()"
   ]
  },
  {
   "cell_type": "code",
   "execution_count": 152,
   "metadata": {},
   "outputs": [
    {
     "data": {
      "image/png": "[encoded data removed]",
      "text/plain": [
       "<matplotlib.figure.Figure at 0x12111d6d8>"
      ]
     },
     "metadata": {},
     "output_type": "display_data"
    }
   ],
   "source": [
    "df2['GBP (AM)'].plot('line')\n",
    "plt.title('Gold Bullion Prices from 2000 to 2018 in Pound Sterling')\n",
    "plt.xlabel('Year')\n",
    "plt.ylabel('Price of Gold (£)')\n",
    "plt.show()"
   ]
  },
  {
   "cell_type": "markdown",
   "metadata": {},
   "source": [
    "We have successfully imported the data. Given that gold bullion rises with inflation, it is expected to see the steady gradual rise of the price of gold from 2001 to 2013. What is unexpected is the sudden drop from 2013 to 2015. This completes this rather simple introductory project. "
   ]
  }
 ],
 "metadata": {
  "kernelspec": {
   "display_name": "Python 3",
   "language": "python",
   "name": "python3"
  },
  "language_info": {
   "codemirror_mode": {
    "name": "ipython",
    "version": 3
   },
   "file_extension": ".py",
   "mimetype": "text/x-python",
   "name": "python",
   "nbconvert_exporter": "python",
   "pygments_lexer": "ipython3",
   "version": "3.6.3"
  }
 },
 "nbformat": 4,
 "nbformat_minor": 2
}
